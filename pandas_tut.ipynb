{
 "cells": [
  {
   "cell_type": "code",
   "execution_count": 1,
   "id": "ee643af4",
   "metadata": {},
   "outputs": [],
   "source": [
    "import pandas as pd\n",
    "import numpy as np\n"
   ]
  },
  {
   "cell_type": "code",
   "execution_count": 2,
   "id": "b8bf99fe",
   "metadata": {},
   "outputs": [
    {
     "data": {
      "text/plain": [
       "0     35.467\n",
       "1     63.952\n",
       "2     80.940\n",
       "3     60.665\n",
       "4    127.061\n",
       "5     64.511\n",
       "6    318.523\n",
       "dtype: float64"
      ]
     },
     "execution_count": 2,
     "metadata": {},
     "output_type": "execute_result"
    }
   ],
   "source": [
    "#in millions\n",
    "g7pop = pd.Series([35.467, 63.952, 80.940, 60.665, 127.061, 64.511, 318.523])\n",
    "g7pop\n",
    "\n",
    "# a Series can only hold one data type dtype: float64"
   ]
  },
  {
   "cell_type": "code",
   "execution_count": 3,
   "id": "14e94d59",
   "metadata": {},
   "outputs": [
    {
     "data": {
      "text/plain": [
       "0     35.467\n",
       "1     63.952\n",
       "2     80.940\n",
       "3     60.665\n",
       "4    127.061\n",
       "5     64.511\n",
       "6    318.523\n",
       "Name: G7 Population in Millions, dtype: float64"
      ]
     },
     "execution_count": 3,
     "metadata": {},
     "output_type": "execute_result"
    }
   ],
   "source": [
    "# a pandas series can have a name. The name is used to document the purpose of the series\n",
    "g7pop.name = 'G7 Population in Millions'\n",
    "g7pop"
   ]
  },
  {
   "cell_type": "markdown",
   "id": "3bdf9b95",
   "metadata": {},
   "source": [
    "Series are similar to numpy arrays"
   ]
  },
  {
   "cell_type": "code",
   "execution_count": 4,
   "id": "43f62d7c",
   "metadata": {},
   "outputs": [
    {
     "data": {
      "text/plain": [
       "dtype('float64')"
      ]
     },
     "execution_count": 4,
     "metadata": {},
     "output_type": "execute_result"
    }
   ],
   "source": [
    "g7pop.dtype"
   ]
  },
  {
   "cell_type": "code",
   "execution_count": 5,
   "id": "d67533f1",
   "metadata": {},
   "outputs": [
    {
     "data": {
      "text/plain": [
       "array([ 35.467,  63.952,  80.94 ,  60.665, 127.061,  64.511, 318.523])"
      ]
     },
     "execution_count": 5,
     "metadata": {},
     "output_type": "execute_result"
    }
   ],
   "source": [
    "g7pop.values"
   ]
  },
  {
   "cell_type": "code",
   "execution_count": 6,
   "id": "cfd0eef6",
   "metadata": {},
   "outputs": [
    {
     "data": {
      "text/plain": [
       "numpy.ndarray"
      ]
     },
     "execution_count": 6,
     "metadata": {},
     "output_type": "execute_result"
    }
   ],
   "source": [
    "type(g7pop.values)"
   ]
  },
  {
   "cell_type": "code",
   "execution_count": 7,
   "id": "0d44f142",
   "metadata": {
    "scrolled": true
   },
   "outputs": [
    {
     "data": {
      "text/plain": [
       "0    35.467\n",
       "1    63.952\n",
       "2    80.940\n",
       "Name: G7 Population in Millions, dtype: float64"
      ]
     },
     "execution_count": 7,
     "metadata": {},
     "output_type": "execute_result"
    }
   ],
   "source": [
    "g7pop[0:3] #indexing is similar to numpy arrays"
   ]
  },
  {
   "cell_type": "code",
   "execution_count": 8,
   "id": "a2cd3ea6",
   "metadata": {},
   "outputs": [
    {
     "data": {
      "text/plain": [
       "RangeIndex(start=0, stop=7, step=1)"
      ]
     },
     "execution_count": 8,
     "metadata": {},
     "output_type": "execute_result"
    }
   ],
   "source": [
    "g7pop.index"
   ]
  },
  {
   "cell_type": "code",
   "execution_count": 9,
   "id": "b0087379",
   "metadata": {},
   "outputs": [],
   "source": [
    "l = {'a', 'b', 'c'}"
   ]
  },
  {
   "cell_type": "code",
   "execution_count": 10,
   "id": "383981e3",
   "metadata": {},
   "outputs": [
    {
     "data": {
      "text/plain": [
       "Germany            35.467\n",
       "United Kingdom     63.952\n",
       "Japan              80.940\n",
       "United States      60.665\n",
       "Italy             127.061\n",
       "France             64.511\n",
       "Canada            318.523\n",
       "Name: G7 Population in Millions, dtype: float64"
      ]
     },
     "execution_count": 10,
     "metadata": {},
     "output_type": "execute_result"
    }
   ],
   "source": [
    "#both numpy array/py list and pandas Series are odered lists but the fundamental difference is that,\n",
    "#a Series can allow you to change the index from numbers/positions to any thin you need. \n",
    "#Example shown below.\n",
    "\n",
    "g7pop.index = {\n",
    "    'Canada',\n",
    "    'France',\n",
    "    'Germany',\n",
    "    'Italy',\n",
    "    'Japan',\n",
    "    'United Kingdom',\n",
    "    'United States'\n",
    "    \n",
    "}\n",
    "g7pop\n",
    "\n",
    "#it's important because"
   ]
  },
  {
   "cell_type": "markdown",
   "id": "cc6e979b",
   "metadata": {},
   "source": [
    "## Other ways to create series in Pandas"
   ]
  },
  {
   "cell_type": "code",
   "execution_count": 11,
   "id": "ae5702e2",
   "metadata": {},
   "outputs": [
    {
     "data": {
      "text/plain": [
       "Canada             35.467\n",
       "France             63.952\n",
       "Germany            80.940\n",
       "Italy              60.665\n",
       "Japan             127.061\n",
       "United Kingdom     64.511\n",
       "United States     318.523\n",
       "Name: G7 Population in Millions, dtype: float64"
      ]
     },
     "execution_count": 11,
     "metadata": {},
     "output_type": "execute_result"
    }
   ],
   "source": [
    "#way 2\n",
    "pd.Series({\n",
    "    'Canada':35.467,\n",
    "    'France':63.952,\n",
    "    'Germany':80.940,\n",
    "    'Italy':60.665,\n",
    "    'Japan':127.061,\n",
    "    'United Kingdom':64.511,\n",
    "    'United States':318.523\n",
    "    \n",
    "}, name='G7 Population in Millions')"
   ]
  },
  {
   "cell_type": "code",
   "execution_count": 12,
   "id": "5916a567",
   "metadata": {},
   "outputs": [
    {
     "data": {
      "text/plain": [
       "Canada             35.467\n",
       "France             63.952\n",
       "Germany            80.940\n",
       "Italy              60.665\n",
       "Japan             127.061\n",
       "United Kingdom     64.511\n",
       "United States     318.523\n",
       "Name: G7 Population in Millions, dtype: float64"
      ]
     },
     "execution_count": 12,
     "metadata": {},
     "output_type": "execute_result"
    }
   ],
   "source": [
    "#way 3\n",
    "pd.Series([35.467, 63.952, 80.940, 60.665, 127.061, 64.511, 318.523],\n",
    "          ['Canada', 'France', 'Germany', 'Italy', 'Japan', 'United Kingdom', 'United States'],\n",
    "          name='G7 Population in Millions')"
   ]
  },
  {
   "cell_type": "markdown",
   "id": "72612816",
   "metadata": {},
   "source": [
    "### Indexing"
   ]
  },
  {
   "cell_type": "code",
   "execution_count": 14,
   "id": "545637c8",
   "metadata": {},
   "outputs": [
    {
     "data": {
      "text/plain": [
       "318.523"
      ]
     },
     "execution_count": 14,
     "metadata": {},
     "output_type": "execute_result"
    }
   ],
   "source": [
    "g7pop['Canada']"
   ]
  },
  {
   "cell_type": "code",
   "execution_count": null,
   "id": "690d25e8",
   "metadata": {},
   "outputs": [],
   "source": [
    "#numeric positions can also\n",
    "\n",
    "z"
   ]
  },
  {
   "cell_type": "code",
   "execution_count": null,
   "id": "e1450c7d",
   "metadata": {},
   "outputs": [],
   "source": []
  },
  {
   "cell_type": "code",
   "execution_count": null,
   "id": "6d61f11a",
   "metadata": {},
   "outputs": [],
   "source": []
  },
  {
   "cell_type": "code",
   "execution_count": null,
   "id": "99073fe5",
   "metadata": {},
   "outputs": [],
   "source": []
  },
  {
   "cell_type": "code",
   "execution_count": null,
   "id": "673c62f8",
   "metadata": {},
   "outputs": [],
   "source": []
  },
  {
   "cell_type": "code",
   "execution_count": null,
   "id": "ca2c05f1",
   "metadata": {},
   "outputs": [],
   "source": []
  },
  {
   "cell_type": "code",
   "execution_count": null,
   "id": "b4ce7a5f",
   "metadata": {},
   "outputs": [],
   "source": []
  }
 ],
 "metadata": {
  "kernelspec": {
   "display_name": "Python 3 (ipykernel)",
   "language": "python",
   "name": "python3"
  },
  "language_info": {
   "codemirror_mode": {
    "name": "ipython",
    "version": 3
   },
   "file_extension": ".py",
   "mimetype": "text/x-python",
   "name": "python",
   "nbconvert_exporter": "python",
   "pygments_lexer": "ipython3",
   "version": "3.9.7"
  }
 },
 "nbformat": 4,
 "nbformat_minor": 5
}
